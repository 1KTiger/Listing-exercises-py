{
 "cells": [
  {
   "cell_type": "code",
   "execution_count": null,
   "metadata": {},
   "outputs": [],
   "source": [
    "print (\"hello extranger\")\n",
    "\n",
    "def ask1 ():\n",
    " work = input(\"Do you work part time or full time ? Enter F for full time and P for part time\")\n",
    " if work == \"P\" or work == \"F\":\n",
    "  print(\"OK buddy, got it\") \n",
    " else:\n",
    "  print(\"UHMM, you didnt get the rules right. Please enter P for part time and F for full time\")\n",
    "  ask1()\n",
    "ask1()\n",
    "\n"
   ]
  },
  {
   "cell_type": "code",
   "execution_count": null,
   "metadata": {},
   "outputs": [],
   "source": [
    "def ask2 ():\n",
    " menu = [1,2,3,4,5,0] \n",
    " for item in menu:\n",
    "  print(item)\n",
    " choice = input(\"what menu option yo want to go into\")\n",
    " if choice == \"1\" or choice == \"2\" or choice == \"3\" or choice == \"4\" or choice == \"5\" or choice == \"0\": \n",
    "  print(\"Understood\") \n",
    " else:\n",
    "  print(\"UHMM, you didnt get the rules right. Please enter P for part time and F for full time\")\n",
    "  ask2()\n",
    "ask2()"
   ]
  },
  {
   "cell_type": "code",
   "execution_count": null,
   "metadata": {},
   "outputs": [],
   "source": [
    "def ask3 ():\n",
    " height = input(\"Enter your height in meters\")\n",
    " if height >0.75 and height <1.3:\n",
    "  print(\"Information successfully entered and stored\") \n",
    " else:\n",
    "  print(\"You either did not enter the information in meters, or you do not enter into the valid range\")\n",
    "  ask3()\n",
    "ask3()"
   ]
  }
 ],
 "metadata": {
  "kernelspec": {
   "display_name": "Python 3",
   "language": "python",
   "name": "python3"
  },
  "language_info": {
   "codemirror_mode": {
    "name": "ipython",
    "version": 3
   },
   "file_extension": ".py",
   "mimetype": "text/x-python",
   "name": "python",
   "nbconvert_exporter": "python",
   "pygments_lexer": "ipython3",
   "version": "3.5.2"
  }
 },
 "nbformat": 4,
 "nbformat_minor": 2
}
