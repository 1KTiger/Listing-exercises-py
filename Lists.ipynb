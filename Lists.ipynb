{
 "cells": [
  {
   "cell_type": "markdown",
   "metadata": {},
   "source": [
    "# Listing basics "
   ]
  },
  {
   "cell_type": "markdown",
   "metadata": {},
   "source": [
    "## Print in range"
   ]
  },
  {
   "cell_type": "code",
   "execution_count": 2,
   "metadata": {
    "scrolled": true
   },
   "outputs": [
    {
     "name": "stdout",
     "output_type": "stream",
     "text": [
      "ana\n",
      "ben\n",
      "carli\n",
      "elaine\n",
      "fred\n",
      "gustas\n"
     ]
    }
   ],
   "source": [
    "myList = ['ana','ben','carli','elaine','fred','gustas']\n",
    "\n",
    "for i in range(len(myList)):\n",
    " print(myList[i])"
   ]
  },
  {
   "cell_type": "code",
   "execution_count": 42,
   "metadata": {},
   "outputs": [
    {
     "name": "stdout",
     "output_type": "stream",
     "text": [
      "a\n",
      "b\n",
      "c\n",
      "e\n",
      "f\n",
      "g\n"
     ]
    }
   ],
   "source": [
    "\n",
    "for i in range(len(myList)): \n",
    " print(myList[i][0])\n",
    "    "
   ]
  },
  {
   "cell_type": "code",
   "execution_count": 5,
   "metadata": {},
   "outputs": [
    {
     "name": "stdout",
     "output_type": "stream",
     "text": [
      "keyrol\n",
      "keyrol\n",
      "keyrol\n",
      "keyrol\n",
      "keyrol\n"
     ]
    }
   ],
   "source": [
    "import random\n",
    "for keyrol in range (5):\n",
    " print(\"keyrol\")"
   ]
  },
  {
   "cell_type": "markdown",
   "metadata": {},
   "source": [
    "## using the random choice method"
   ]
  },
  {
   "cell_type": "code",
   "execution_count": 6,
   "metadata": {},
   "outputs": [
    {
     "name": "stdout",
     "output_type": "stream",
     "text": [
      "[1, 2, 3, '6', '9', '4', '8', '5', '4', '9', '8', '6', '6']\n"
     ]
    }
   ],
   "source": [
    "a = [1, 2, 3]\n",
    "a.extend(\"6948549866\")\n",
    "print(a)\n",
    "#extend takes a list of aguments\n"
   ]
  },
  {
   "cell_type": "markdown",
   "metadata": {},
   "source": [
    "## Append, insert and delete"
   ]
  },
  {
   "cell_type": "code",
   "execution_count": 7,
   "metadata": {},
   "outputs": [
    {
     "name": "stdout",
     "output_type": "stream",
     "text": [
      "[1, 2, 3, '5ererer']\n"
     ]
    }
   ],
   "source": [
    "a = [1, 2, 3] \n",
    "a.append(\"5ererer\") \n",
    "print(a)\n",
    "#append takes single argument"
   ]
  },
  {
   "cell_type": "code",
   "execution_count": 8,
   "metadata": {},
   "outputs": [
    {
     "name": "stdout",
     "output_type": "stream",
     "text": [
      "[1, 2]\n"
     ]
    }
   ],
   "source": [
    "a = [1, 2, 3]\n",
    "a.remove(3)\n",
    "print(a)\n",
    "#removes first matching value"
   ]
  },
  {
   "cell_type": "code",
   "execution_count": null,
   "metadata": {},
   "outputs": [],
   "source": [
    "a = [1, 2, 3]\n",
    "del a [0]\n",
    "print(a)\n",
    "#removes specific index"
   ]
  },
  {
   "cell_type": "code",
   "execution_count": null,
   "metadata": {},
   "outputs": [],
   "source": [
    "a = [1, 2, 3] \n",
    "a.pop (1) \n",
    "print(a)\n",
    "#returns deleted value\n"
   ]
  },
  {
   "cell_type": "code",
   "execution_count": null,
   "metadata": {},
   "outputs": [],
   "source": [
    "a = [1, 2, 3]\n",
    "a.insert (1,1)\n",
    "print(a)"
   ]
  },
  {
   "cell_type": "code",
   "execution_count": 13,
   "metadata": {},
   "outputs": [
    {
     "name": "stdout",
     "output_type": "stream",
     "text": [
      "d\n"
     ]
    }
   ],
   "source": [
    "import random\n",
    "\n",
    "a = ['a', 'b', 'c', 'd', 'e']\n",
    "print(random.choice(a))\n"
   ]
  },
  {
   "cell_type": "code",
   "execution_count": 12,
   "metadata": {},
   "outputs": [
    {
     "name": "stdout",
     "output_type": "stream",
     "text": [
      "[4, 4, 3, 5, 2, 45, 56, 23, 16, 15, 1535, 35, 3534, 21]\n"
     ]
    }
   ],
   "source": [
    "temperature = [4,4,3,2,45,56,23,16,15,1535,35,3534,21]\n",
    "temperature.insert(3,5)\n",
    "print (temperature)"
   ]
  },
  {
   "cell_type": "code",
   "execution_count": 17,
   "metadata": {},
   "outputs": [
    {
     "name": "stdout",
     "output_type": "stream",
     "text": [
      "[4, 4, 3, 2, 45, 56, 23, 16, 15, 1535, 35, 3534, 21, 7, 7, 7]\n"
     ]
    }
   ],
   "source": [
    "temperature = [4,4,3,2,45,56,23,16,15,1535,35,3534,21]\n",
    "temperature.extend([7,7,7])\n",
    "print (temperature) "
   ]
  },
  {
   "cell_type": "code",
   "execution_count": 44,
   "metadata": {
    "scrolled": false
   },
   "outputs": [
    {
     "name": "stdout",
     "output_type": "stream",
     "text": [
      "K l\n",
      "e r\n",
      "y K\n",
      "r a\n",
      "o K\n",
      "l K\n",
      "a o\n"
     ]
    }
   ],
   "source": [
    "name = \"Keyrola\"\n",
    "for ch in name:\n",
    " print(ch, end = \" \")\n",
    " print(name[random.randint(0, len(name)-1)])\n",
    "#First position in () is array position, second position is number \n",
    " "
   ]
  },
  {
   "cell_type": "code",
   "execution_count": 46,
   "metadata": {},
   "outputs": [
    {
     "name": "stdout",
     "output_type": "stream",
     "text": [
      "[4, 4, 3, 2, 45, 56, 23, 15, 1535, 35, 3534, 21]\n"
     ]
    }
   ],
   "source": [
    "temperature = [4,4,3,2,45,56,23,16,15,1535,35,3534,21]\n",
    "temperature.remove(16)\n",
    "print (temperature) "
   ]
  },
  {
   "cell_type": "markdown",
   "metadata": {},
   "source": [
    "## Using the random choice method"
   ]
  },
  {
   "cell_type": "code",
   "execution_count": 37,
   "metadata": {},
   "outputs": [
    {
     "name": "stdout",
     "output_type": "stream",
     "text": [
      "c\n"
     ]
    }
   ],
   "source": [
    "import random\n",
    "\n",
    "a = ['a', 'b', 'c', 'd', 'e']\n",
    "print(random.choice(a))"
   ]
  },
  {
   "cell_type": "code",
   "execution_count": 45,
   "metadata": {},
   "outputs": [
    {
     "name": "stdout",
     "output_type": "stream",
     "text": [
      "[4, 4, 3, 2, 45, 56, 23, 15, 1535, 35, 3534, 21]\n"
     ]
    }
   ],
   "source": []
  }
 ],
 "metadata": {
  "kernelspec": {
   "display_name": "Python 3",
   "language": "python",
   "name": "python3"
  },
  "language_info": {
   "codemirror_mode": {
    "name": "ipython",
    "version": 3
   },
   "file_extension": ".py",
   "mimetype": "text/x-python",
   "name": "python",
   "nbconvert_exporter": "python",
   "pygments_lexer": "ipython3",
   "version": "3.5.2"
  }
 },
 "nbformat": 4,
 "nbformat_minor": 2
}
